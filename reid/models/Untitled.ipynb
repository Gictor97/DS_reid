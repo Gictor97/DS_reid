{
 "cells": [
  {
   "cell_type": "code",
   "execution_count": 28,
   "metadata": {},
   "outputs": [
    {
     "name": "stdout",
     "output_type": "stream",
     "text": [
      "torch.Size([64, 64, 3]) torch.Size([64, 64, 4])\n"
     ]
    }
   ],
   "source": [
    "import torch\n",
    "import torch.nn as nn\n",
    "class GPP_pooling(nn.Module):\n",
    "    def __init__(self,channel=64):\n",
    "        super(GPP_pooling, self).__init__() \n",
    "        \n",
    "        self.conv1=nn.Conv2d(channel,channel,1)\n",
    "        self.conv2 =nn.Sequential(\n",
    "            nn.Conv2d(channel,channel,1),\n",
    "            nn.BatchNorm2d(num_features=channel),\n",
    "            nn.ReLU(inplace=True)\n",
    "        )\n",
    "        \n",
    "        self.channel = channel\n",
    "        \n",
    "        self.avepool = nn.AdaptiveAvgPool2d(1)\n",
    "        self.avepool2 = nn.AdaptiveAvgPool2d((3,1))\n",
    "        self.maxpool = nn.AdaptiveMaxPool2d(1)\n",
    "    def forward(self,x):\n",
    "        avg = self.avepool(x).squeeze(-1)\n",
    "        avg2 = self.avepool2(x)\n",
    "        max1 = self.maxpool(x)\n",
    "        p_cot = self.conv1(avg2-max1.expand_as(avg2)).squeeze()\n",
    "        p_cot_avg = torch.cat((avg,p_cot),dim=-1)\n",
    "        gpp = self.conv2(p_cot_avg.unsqueeze(-1))\n",
    "        print(p_cot.size(),p_cot_avg.size())\n",
    "        return gpp.squeeze().mean(-1)\n",
    "    \n",
    "gpp = GPP_pooling()\n",
    "a = torch.Tensor(64,64,256,128)\n",
    "gpp = gpp(a)\n"
   ]
  },
  {
   "cell_type": "code",
   "execution_count": 32,
   "metadata": {},
   "outputs": [
    {
     "name": "stdout",
     "output_type": "stream",
     "text": [
      "torch.Size([64, 64])\n"
     ]
    }
   ],
   "source": [
    "class  GCPooling(nn.Module):\n",
    "    def __init__(self,channel =64):\n",
    "        super(GCPooling,self).__init__()\n",
    "        self.conv1=nn.Conv2d(channel,channel,1)\n",
    "        self.conv2 =nn.Sequential(\n",
    "            nn.Conv2d(channel*2,channel,1),\n",
    "            nn.BatchNorm2d(num_features=channel),\n",
    "            nn.ReLU(inplace=True)\n",
    "        )\n",
    "        self.channel =channel\n",
    "    def forward(self,max,avg):\n",
    "        if (not self.training):\n",
    "            return max,avg\n",
    "        p_cont =self.conv1(avg-max)   ##(bs,channel,1)\n",
    "        p_max = self.conv1(max)\n",
    "        p_con_max = torch.cat((p_cont,p_max),dim=1)\n",
    "        p_conmax = self.conv2(p_con_max)\n",
    "        Gcp = p_conmax+max\n",
    "        return Gcp.squeeze()\n",
    "c= torch.Tensor(64,64,1,1)\n",
    "d= torch.Tensor(64,64,1,1)\n",
    "gcp= GCPooling()\n",
    "f  = gcp(c,d)\n",
    "print(f.size())"
   ]
  },
  {
   "cell_type": "code",
   "execution_count": null,
   "metadata": {},
   "outputs": [],
   "source": []
  }
 ],
 "metadata": {
  "kernelspec": {
   "display_name": "pytorch-gpu",
   "language": "python",
   "name": "pytorch-gpu"
  },
  "language_info": {
   "codemirror_mode": {
    "name": "ipython",
    "version": 3
   },
   "file_extension": ".py",
   "mimetype": "text/x-python",
   "name": "python",
   "nbconvert_exporter": "python",
   "pygments_lexer": "ipython3",
   "version": "3.9.2"
  }
 },
 "nbformat": 4,
 "nbformat_minor": 4
}
