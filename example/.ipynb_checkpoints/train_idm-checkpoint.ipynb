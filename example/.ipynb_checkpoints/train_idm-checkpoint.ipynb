{
 "cells": [
  {
   "cell_type": "code",
   "execution_count": null,
   "metadata": {
    "collapsed": true,
    "pycharm": {
     "is_executing": true,
     "name": "#%%import\n"
    }
   },
   "outputs": [],
   "source": [
    "from __future__ import print_function, absolute_import\n",
    "import argparse\n",
    "import os.path as osp\n",
    "import random\n",
    "import numpy as np\n",
    "import sys\n",
    "import collections\n",
    "import copy\n",
    "import time\n",
    "from datetime import timedelta\n",
    "\n",
    "from sklearn.cluster import DBSCAN, KMeans\n",
    "from sklearn.preprocessing import normalize\n",
    "import os\n",
    "import torch\n",
    "from torch import nn\n",
    "from torch.backends import cudnn\n",
    "from torch.utils.data import DataLoader\n",
    "import torch.nn.functional as F\n",
    "\n",
    "sys.path.append(\".\")\n",
    "from reid import datasets\n",
    "from reid import models\n",
    "from reid.models import convert_bn, convert_dsbn_idm\n",
    "from reid.models.xbm import XBM\n",
    "from reid.trainer import Base_trainer, idm_trainer\n",
    "from reid.evaluators import Evaluator, extract_features\n",
    "from reid.utils.data import transforms as T\n",
    "from reid.utils.data import *\n",
    "from reid.utils.logging import Logger\n",
    "from reid.utils.serialization import load_checkpoint, save_checkpoint, copy_state_dict\n",
    "from reid.utils.rerank import compute_jaccard_distance\n",
    "from pdb import set_trace\n",
    "from reid.utils.plt import draw\n"
   ]
  }
 ],
 "metadata": {
  "kernelspec": {
   "display_name": "pytorch",
   "language": "python",
   "name": "pytorch"
  },
  "language_info": {
   "codemirror_mode": {
    "name": "ipython",
    "version": 3
   },
   "file_extension": ".py",
   "mimetype": "text/x-python",
   "name": "python",
   "nbconvert_exporter": "python",
   "pygments_lexer": "ipython3",
   "version": "3.6.13"
  }
 },
 "nbformat": 4,
 "nbformat_minor": 1
}
