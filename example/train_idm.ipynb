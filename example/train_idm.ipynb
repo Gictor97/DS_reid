{
 "cells": [
  {
   "cell_type": "code",
   "execution_count": 23,
   "outputs": [
    {
     "name": "stdout",
     "output_type": "stream",
     "text": [
      "/home/fs/CDY/DS_reid\n"
     ]
    }
   ],
   "source": [
    "%cd DS_reid"
   ],
   "metadata": {
    "collapsed": false,
    "pycharm": {
     "name": "#%% 源路径在\n"
    }
   }
  },
  {
   "cell_type": "code",
   "execution_count": 24,
   "metadata": {
    "collapsed": true,
    "pycharm": {
     "name": "#%%import\n"
    }
   },
   "outputs": [
    {
     "name": "stdout",
     "output_type": "stream",
     "text": [
      "/home/fs/CDY\n",
      "['/home/fs/CDY', '', '/opt/rh/devtoolset-8/root/usr/lib64/python2.7/site-packages', '/opt/rh/devtoolset-8/root/usr/lib/python2.7/site-packages', '/home/fs/anaconda3/envs/py/lib/python38.zip', '/home/fs/anaconda3/envs/py/lib/python3.8', '/home/fs/anaconda3/envs/py/lib/python3.8/lib-dynload', '/home/fs/anaconda3/envs/py/lib/python3.8/site-packages', '.', '/home/fs/CDY', '.', '/home/fs/CDY', '.', '/home/fs/CDY', '.', '/home/fs/CDY', '.', '/home/fs/CDY', '.', '/home/fs/CDY', '.', '.', '/home/fs/CDY', '/home/fs/CDY', '/home/fs/CDY', '/home/fs/CDY', '/home/fs/CDY', '/home/fs/CDY/DS_reid']\n"
     ]
    },
    {
     "name": "stderr",
     "output_type": "stream",
     "text": [
      "/home/fs/CDY/DS_reid/reid/evaluation_metrics/rank.py:11: UserWarning: Cython evaluation (very fast so highly recommended) is unavailable, now use python evaluation.\n",
      "  warnings.warn(\n"
     ]
    }
   ],
   "source": [
    "from __future__ import print_function, absolute_import\n",
    "import argparse\n",
    "import os.path as osp\n",
    "import random\n",
    "import numpy as np\n",
    "import sys\n",
    "import collections\n",
    "import copy\n",
    "import time\n",
    "from datetime import timedelta\n",
    "from sklearn.cluster import DBSCAN, KMeans\n",
    "from sklearn.preprocessing import normalize\n",
    "import os\n",
    "import torch\n",
    "from torch import nn\n",
    "from torch.backends import cudnn\n",
    "from torch.utils.data import DataLoader\n",
    "import torch.nn.functional as F\n",
    "from reid import datasets\n",
    "from reid import models\n",
    "from reid.models import convert_bn, convert_dsbn_idm\n",
    "from reid.models.xbm import XBM\n",
    "from reid.trainer import Base_trainer, idm_trainer\n",
    "from reid.evaluators import Evaluator, extract_features\n",
    "from reid.utils.data import transforms as T\n",
    "from reid.utils.data import *\n",
    "from reid.utils.logging import Logger\n",
    "from reid.utils.serialization import load_checkpoint, save_checkpoint, copy_state_dict\n",
    "from reid.utils.rerank import compute_jaccard_distance\n",
    "from pdb import set_trace\n",
    "from reid.utils.plt import draw"
   ]
  },
  {
   "cell_type": "code",
   "execution_count": 22,
   "outputs": [
    {
     "name": "stdout",
     "output_type": "stream",
     "text": [
      "% cd %\r\n"
     ]
    }
   ],
   "source": [],
   "metadata": {
    "collapsed": false,
    "pycharm": {
     "name": "#%%\n"
    }
   }
  },
  {
   "cell_type": "code",
   "execution_count": null,
   "outputs": [],
   "source": [],
   "metadata": {
    "collapsed": false,
    "pycharm": {
     "name": "#%%\n"
    }
   }
  }
 ],
 "metadata": {
  "kernelspec": {
   "name": "py",
   "language": "python",
   "display_name": "py"
  },
  "language_info": {
   "codemirror_mode": {
    "name": "ipython",
    "version": 3
   },
   "file_extension": ".py",
   "mimetype": "text/x-python",
   "name": "python",
   "nbconvert_exporter": "python",
   "pygments_lexer": "ipython3",
   "version": "3.6.13"
  }
 },
 "nbformat": 4,
 "nbformat_minor": 1
}